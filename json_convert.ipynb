{
 "cells": [
  {
   "cell_type": "code",
   "execution_count": 1,
   "id": "8e55591a",
   "metadata": {},
   "outputs": [],
   "source": [
    "import json"
   ]
  },
  {
   "cell_type": "code",
   "execution_count": 2,
   "id": "a261adb4",
   "metadata": {},
   "outputs": [],
   "source": [
    "userfile = open('/Users/mohitkorai/Documents/FetchRewards/users_f.json', 'wt')"
   ]
  },
  {
   "cell_type": "markdown",
   "id": "887fd720",
   "metadata": {},
   "source": [
    "- user unstructired JSON file is converted by adding ',' after each JSON string to convert into JSON file readable by SQL Server"
   ]
  },
  {
   "cell_type": "code",
   "execution_count": 3,
   "id": "1af7cdc7",
   "metadata": {},
   "outputs": [],
   "source": [
    "data = []\n",
    "with open('/Users/mohitkorai/Documents/FetchRewards/users.json') as f:\n",
    "    for line in f:\n",
    "        data.append(json.loads(line))\n",
    "userfile.write(json.dumps(data))\n",
    "userfile.close()"
   ]
  },
  {
   "cell_type": "markdown",
   "id": "7b83d3d5",
   "metadata": {},
   "source": [
    "- brand unstructired JSON file is converted by adding ',' after each JSON string to convert into JSON file readable by SQL Server"
   ]
  },
  {
   "cell_type": "code",
   "execution_count": 4,
   "id": "99f22401",
   "metadata": {},
   "outputs": [],
   "source": [
    "brandfile = open('/Users/mohitkorai/Documents/FetchRewards/brands_f.json', 'wt')"
   ]
  },
  {
   "cell_type": "code",
   "execution_count": 5,
   "id": "1851a614",
   "metadata": {},
   "outputs": [],
   "source": [
    "data = []\n",
    "with open('/Users/mohitkorai/Documents/FetchRewards/brands.json') as f:\n",
    "    for line in f:\n",
    "        data.append(json.loads(line))\n",
    "brandfile.write(json.dumps(data))\n",
    "brandfile.close()"
   ]
  },
  {
   "cell_type": "markdown",
   "id": "7a02a731",
   "metadata": {},
   "source": [
    "- receipt unstructired JSON file is converted by adding ',' after each JSON string to convert into JSON file readable by SQL Server"
   ]
  },
  {
   "cell_type": "code",
   "execution_count": 6,
   "id": "11120240",
   "metadata": {},
   "outputs": [],
   "source": [
    "receiptfile = open('/Users/mohitkorai/Documents/FetchRewards/receipts_f.json', 'wt')"
   ]
  },
  {
   "cell_type": "code",
   "execution_count": 7,
   "id": "08222e3b",
   "metadata": {},
   "outputs": [],
   "source": [
    "data = []\n",
    "with open('/Users/mohitkorai/Documents/FetchRewards/receipts.json') as f:\n",
    "    for line in f:\n",
    "        data.append(json.loads(line))\n",
    "receiptfile.write(json.dumps(data))\n",
    "receiptfile.close()"
   ]
  },
  {
   "cell_type": "code",
   "execution_count": null,
   "id": "38e90829",
   "metadata": {},
   "outputs": [],
   "source": []
  }
 ],
 "metadata": {
  "kernelspec": {
   "display_name": "Python 3 (ipykernel)",
   "language": "python",
   "name": "python3"
  },
  "language_info": {
   "codemirror_mode": {
    "name": "ipython",
    "version": 3
   },
   "file_extension": ".py",
   "mimetype": "text/x-python",
   "name": "python",
   "nbconvert_exporter": "python",
   "pygments_lexer": "ipython3",
   "version": "3.9.13"
  }
 },
 "nbformat": 4,
 "nbformat_minor": 5
}
