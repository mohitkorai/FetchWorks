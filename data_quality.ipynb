{
 "cells": [
  {
   "cell_type": "markdown",
   "id": "98a92f86",
   "metadata": {},
   "source": [
    "## Summary\n",
    "\n",
    "- Two main Data Quality Issues detected in initial analysis of users and brands tables are Duplicate Data and Missing Data\n",
    "- 283 records out of 495 records of users table are duplicate records with only 212 records containing unique information\n",
    "- 56 out of 495 users state is missing from users table\n",
    "- 62 out of 495 users last login is missing from users table\n",
    "- 11 brand name have duplicate data in brands table\n",
    "- Out of 934 records with brand code 37 are duplicate data in brands table\n",
    "- 7 records also have duplicate barcode in brands table\n",
    "- 650 out of 1167 brands category code is missing from brands table\n",
    "- 612 out of 1167 brands top brand information is missing from brands table\n",
    "- 234 out of 1167 brandsm brand code information is missing from brands table which is essential for connecting brands table to receipts table"
   ]
  },
  {
   "cell_type": "code",
   "execution_count": 1,
   "id": "6617f0ca",
   "metadata": {},
   "outputs": [],
   "source": [
    "import pandas as pd\n",
    "import json\n",
    "import datetime"
   ]
  },
  {
   "cell_type": "markdown",
   "id": "55ce0362",
   "metadata": {},
   "source": [
    "- users dataframe is created from users.json file"
   ]
  },
  {
   "cell_type": "code",
   "execution_count": 2,
   "id": "82394ce8",
   "metadata": {
    "scrolled": true
   },
   "outputs": [
    {
     "data": {
      "text/html": [
       "<div>\n",
       "<style scoped>\n",
       "    .dataframe tbody tr th:only-of-type {\n",
       "        vertical-align: middle;\n",
       "    }\n",
       "\n",
       "    .dataframe tbody tr th {\n",
       "        vertical-align: top;\n",
       "    }\n",
       "\n",
       "    .dataframe thead th {\n",
       "        text-align: right;\n",
       "    }\n",
       "</style>\n",
       "<table border=\"1\" class=\"dataframe\">\n",
       "  <thead>\n",
       "    <tr style=\"text-align: right;\">\n",
       "      <th></th>\n",
       "      <th>_id</th>\n",
       "      <th>active</th>\n",
       "      <th>createdDate</th>\n",
       "      <th>lastLogin</th>\n",
       "      <th>role</th>\n",
       "      <th>signUpSource</th>\n",
       "      <th>state</th>\n",
       "    </tr>\n",
       "  </thead>\n",
       "  <tbody>\n",
       "    <tr>\n",
       "      <th>0</th>\n",
       "      <td>{'$oid': '5ff1e194b6a9d73a3a9f1052'}</td>\n",
       "      <td>True</td>\n",
       "      <td>{'$date': 1609687444800}</td>\n",
       "      <td>{'$date': 1609687537858}</td>\n",
       "      <td>consumer</td>\n",
       "      <td>Email</td>\n",
       "      <td>WI</td>\n",
       "    </tr>\n",
       "    <tr>\n",
       "      <th>1</th>\n",
       "      <td>{'$oid': '5ff1e194b6a9d73a3a9f1052'}</td>\n",
       "      <td>True</td>\n",
       "      <td>{'$date': 1609687444800}</td>\n",
       "      <td>{'$date': 1609687537858}</td>\n",
       "      <td>consumer</td>\n",
       "      <td>Email</td>\n",
       "      <td>WI</td>\n",
       "    </tr>\n",
       "    <tr>\n",
       "      <th>2</th>\n",
       "      <td>{'$oid': '5ff1e194b6a9d73a3a9f1052'}</td>\n",
       "      <td>True</td>\n",
       "      <td>{'$date': 1609687444800}</td>\n",
       "      <td>{'$date': 1609687537858}</td>\n",
       "      <td>consumer</td>\n",
       "      <td>Email</td>\n",
       "      <td>WI</td>\n",
       "    </tr>\n",
       "    <tr>\n",
       "      <th>3</th>\n",
       "      <td>{'$oid': '5ff1e1eacfcf6c399c274ae6'}</td>\n",
       "      <td>True</td>\n",
       "      <td>{'$date': 1609687530554}</td>\n",
       "      <td>{'$date': 1609687530597}</td>\n",
       "      <td>consumer</td>\n",
       "      <td>Email</td>\n",
       "      <td>WI</td>\n",
       "    </tr>\n",
       "    <tr>\n",
       "      <th>4</th>\n",
       "      <td>{'$oid': '5ff1e194b6a9d73a3a9f1052'}</td>\n",
       "      <td>True</td>\n",
       "      <td>{'$date': 1609687444800}</td>\n",
       "      <td>{'$date': 1609687537858}</td>\n",
       "      <td>consumer</td>\n",
       "      <td>Email</td>\n",
       "      <td>WI</td>\n",
       "    </tr>\n",
       "  </tbody>\n",
       "</table>\n",
       "</div>"
      ],
      "text/plain": [
       "                                    _id  active               createdDate  \\\n",
       "0  {'$oid': '5ff1e194b6a9d73a3a9f1052'}    True  {'$date': 1609687444800}   \n",
       "1  {'$oid': '5ff1e194b6a9d73a3a9f1052'}    True  {'$date': 1609687444800}   \n",
       "2  {'$oid': '5ff1e194b6a9d73a3a9f1052'}    True  {'$date': 1609687444800}   \n",
       "3  {'$oid': '5ff1e1eacfcf6c399c274ae6'}    True  {'$date': 1609687530554}   \n",
       "4  {'$oid': '5ff1e194b6a9d73a3a9f1052'}    True  {'$date': 1609687444800}   \n",
       "\n",
       "                  lastLogin      role signUpSource state  \n",
       "0  {'$date': 1609687537858}  consumer        Email    WI  \n",
       "1  {'$date': 1609687537858}  consumer        Email    WI  \n",
       "2  {'$date': 1609687537858}  consumer        Email    WI  \n",
       "3  {'$date': 1609687530597}  consumer        Email    WI  \n",
       "4  {'$date': 1609687537858}  consumer        Email    WI  "
      ]
     },
     "execution_count": 2,
     "metadata": {},
     "output_type": "execute_result"
    }
   ],
   "source": [
    "data = []\n",
    "with open('/Users/mohitkorai/Documents/FetchRewards/users.json') as f:\n",
    "    for line in f:\n",
    "        data.append(json.loads(line))\n",
    "users = pd.DataFrame(data)\n",
    "users.head()"
   ]
  },
  {
   "cell_type": "markdown",
   "id": "dc29758f",
   "metadata": {},
   "source": [
    "- Getting Values in JSON columns of _id, createdDate, lastLogin"
   ]
  },
  {
   "cell_type": "code",
   "execution_count": 3,
   "id": "96b6250a",
   "metadata": {},
   "outputs": [],
   "source": [
    "x = []\n",
    "for i in users['_id']:\n",
    "    x.append(*i.values())\n",
    "users['_id'] = x"
   ]
  },
  {
   "cell_type": "code",
   "execution_count": 4,
   "id": "da54cbfc",
   "metadata": {},
   "outputs": [],
   "source": [
    "x = []\n",
    "for i in users['createdDate']:\n",
    "    x.append(*i.values())\n",
    "users['createdDate'] = x"
   ]
  },
  {
   "cell_type": "code",
   "execution_count": 5,
   "id": "be42b430",
   "metadata": {},
   "outputs": [],
   "source": [
    "x = []\n",
    "for i in users['lastLogin']:\n",
    "    if pd.notna(i):\n",
    "        x.append(*i.values())\n",
    "    else:\n",
    "        x.append(None)\n",
    "users['lastLogin'] = x"
   ]
  },
  {
   "cell_type": "markdown",
   "id": "1ed58789",
   "metadata": {},
   "source": [
    "- Converting 13 digit UNIX timestamp of columns createdDate and lastLogin into datetime format"
   ]
  },
  {
   "cell_type": "code",
   "execution_count": 6,
   "id": "57e0d12a",
   "metadata": {},
   "outputs": [],
   "source": [
    "x = []\n",
    "for i in users['createdDate']:\n",
    "    x.append(datetime.datetime.fromtimestamp(int(i)/1000).strftime(\"%Y-%m-%d %H:%M:%S\"))\n",
    "users['createdDate'] = x"
   ]
  },
  {
   "cell_type": "code",
   "execution_count": 7,
   "id": "a8230166",
   "metadata": {},
   "outputs": [],
   "source": [
    "x = []\n",
    "for i in users['lastLogin']:\n",
    "    if pd.notna(i):\n",
    "        x.append(datetime.datetime.fromtimestamp(int(i)/1000).strftime(\"%Y-%m-%d %H:%M:%S\"))\n",
    "    else:\n",
    "        x.append(None)\n",
    "users['lastLogin'] = x"
   ]
  },
  {
   "cell_type": "markdown",
   "id": "7c0d2332",
   "metadata": {},
   "source": [
    "- Chaging column type of createdDate and lastLogin to datetime"
   ]
  },
  {
   "cell_type": "code",
   "execution_count": 8,
   "id": "1a44005a",
   "metadata": {},
   "outputs": [
    {
     "data": {
      "text/html": [
       "<div>\n",
       "<style scoped>\n",
       "    .dataframe tbody tr th:only-of-type {\n",
       "        vertical-align: middle;\n",
       "    }\n",
       "\n",
       "    .dataframe tbody tr th {\n",
       "        vertical-align: top;\n",
       "    }\n",
       "\n",
       "    .dataframe thead th {\n",
       "        text-align: right;\n",
       "    }\n",
       "</style>\n",
       "<table border=\"1\" class=\"dataframe\">\n",
       "  <thead>\n",
       "    <tr style=\"text-align: right;\">\n",
       "      <th></th>\n",
       "      <th>_id</th>\n",
       "      <th>active</th>\n",
       "      <th>createdDate</th>\n",
       "      <th>lastLogin</th>\n",
       "      <th>role</th>\n",
       "      <th>signUpSource</th>\n",
       "      <th>state</th>\n",
       "    </tr>\n",
       "  </thead>\n",
       "  <tbody>\n",
       "    <tr>\n",
       "      <th>0</th>\n",
       "      <td>5ff1e194b6a9d73a3a9f1052</td>\n",
       "      <td>True</td>\n",
       "      <td>2021-01-03 09:24:04</td>\n",
       "      <td>2021-01-03 09:25:37</td>\n",
       "      <td>consumer</td>\n",
       "      <td>Email</td>\n",
       "      <td>WI</td>\n",
       "    </tr>\n",
       "    <tr>\n",
       "      <th>1</th>\n",
       "      <td>5ff1e194b6a9d73a3a9f1052</td>\n",
       "      <td>True</td>\n",
       "      <td>2021-01-03 09:24:04</td>\n",
       "      <td>2021-01-03 09:25:37</td>\n",
       "      <td>consumer</td>\n",
       "      <td>Email</td>\n",
       "      <td>WI</td>\n",
       "    </tr>\n",
       "    <tr>\n",
       "      <th>2</th>\n",
       "      <td>5ff1e194b6a9d73a3a9f1052</td>\n",
       "      <td>True</td>\n",
       "      <td>2021-01-03 09:24:04</td>\n",
       "      <td>2021-01-03 09:25:37</td>\n",
       "      <td>consumer</td>\n",
       "      <td>Email</td>\n",
       "      <td>WI</td>\n",
       "    </tr>\n",
       "    <tr>\n",
       "      <th>3</th>\n",
       "      <td>5ff1e1eacfcf6c399c274ae6</td>\n",
       "      <td>True</td>\n",
       "      <td>2021-01-03 09:25:30</td>\n",
       "      <td>2021-01-03 09:25:30</td>\n",
       "      <td>consumer</td>\n",
       "      <td>Email</td>\n",
       "      <td>WI</td>\n",
       "    </tr>\n",
       "    <tr>\n",
       "      <th>4</th>\n",
       "      <td>5ff1e194b6a9d73a3a9f1052</td>\n",
       "      <td>True</td>\n",
       "      <td>2021-01-03 09:24:04</td>\n",
       "      <td>2021-01-03 09:25:37</td>\n",
       "      <td>consumer</td>\n",
       "      <td>Email</td>\n",
       "      <td>WI</td>\n",
       "    </tr>\n",
       "    <tr>\n",
       "      <th>5</th>\n",
       "      <td>5ff1e194b6a9d73a3a9f1052</td>\n",
       "      <td>True</td>\n",
       "      <td>2021-01-03 09:24:04</td>\n",
       "      <td>2021-01-03 09:25:37</td>\n",
       "      <td>consumer</td>\n",
       "      <td>Email</td>\n",
       "      <td>WI</td>\n",
       "    </tr>\n",
       "    <tr>\n",
       "      <th>6</th>\n",
       "      <td>5ff1e1e8cfcf6c399c274ad9</td>\n",
       "      <td>True</td>\n",
       "      <td>2021-01-03 09:25:28</td>\n",
       "      <td>2021-01-03 09:25:28</td>\n",
       "      <td>consumer</td>\n",
       "      <td>Email</td>\n",
       "      <td>WI</td>\n",
       "    </tr>\n",
       "    <tr>\n",
       "      <th>7</th>\n",
       "      <td>5ff1e1b7cfcf6c399c274a5a</td>\n",
       "      <td>True</td>\n",
       "      <td>2021-01-03 09:24:39</td>\n",
       "      <td>2021-01-03 09:24:39</td>\n",
       "      <td>consumer</td>\n",
       "      <td>Email</td>\n",
       "      <td>WI</td>\n",
       "    </tr>\n",
       "    <tr>\n",
       "      <th>8</th>\n",
       "      <td>5ff1e194b6a9d73a3a9f1052</td>\n",
       "      <td>True</td>\n",
       "      <td>2021-01-03 09:24:04</td>\n",
       "      <td>2021-01-03 09:25:37</td>\n",
       "      <td>consumer</td>\n",
       "      <td>Email</td>\n",
       "      <td>WI</td>\n",
       "    </tr>\n",
       "    <tr>\n",
       "      <th>9</th>\n",
       "      <td>5ff1e1f1cfcf6c399c274b0b</td>\n",
       "      <td>True</td>\n",
       "      <td>2021-01-03 09:25:37</td>\n",
       "      <td>2021-01-03 09:25:37</td>\n",
       "      <td>consumer</td>\n",
       "      <td>Email</td>\n",
       "      <td>WI</td>\n",
       "    </tr>\n",
       "  </tbody>\n",
       "</table>\n",
       "</div>"
      ],
      "text/plain": [
       "                        _id  active         createdDate           lastLogin  \\\n",
       "0  5ff1e194b6a9d73a3a9f1052    True 2021-01-03 09:24:04 2021-01-03 09:25:37   \n",
       "1  5ff1e194b6a9d73a3a9f1052    True 2021-01-03 09:24:04 2021-01-03 09:25:37   \n",
       "2  5ff1e194b6a9d73a3a9f1052    True 2021-01-03 09:24:04 2021-01-03 09:25:37   \n",
       "3  5ff1e1eacfcf6c399c274ae6    True 2021-01-03 09:25:30 2021-01-03 09:25:30   \n",
       "4  5ff1e194b6a9d73a3a9f1052    True 2021-01-03 09:24:04 2021-01-03 09:25:37   \n",
       "5  5ff1e194b6a9d73a3a9f1052    True 2021-01-03 09:24:04 2021-01-03 09:25:37   \n",
       "6  5ff1e1e8cfcf6c399c274ad9    True 2021-01-03 09:25:28 2021-01-03 09:25:28   \n",
       "7  5ff1e1b7cfcf6c399c274a5a    True 2021-01-03 09:24:39 2021-01-03 09:24:39   \n",
       "8  5ff1e194b6a9d73a3a9f1052    True 2021-01-03 09:24:04 2021-01-03 09:25:37   \n",
       "9  5ff1e1f1cfcf6c399c274b0b    True 2021-01-03 09:25:37 2021-01-03 09:25:37   \n",
       "\n",
       "       role signUpSource state  \n",
       "0  consumer        Email    WI  \n",
       "1  consumer        Email    WI  \n",
       "2  consumer        Email    WI  \n",
       "3  consumer        Email    WI  \n",
       "4  consumer        Email    WI  \n",
       "5  consumer        Email    WI  \n",
       "6  consumer        Email    WI  \n",
       "7  consumer        Email    WI  \n",
       "8  consumer        Email    WI  \n",
       "9  consumer        Email    WI  "
      ]
     },
     "execution_count": 8,
     "metadata": {},
     "output_type": "execute_result"
    }
   ],
   "source": [
    "users['createdDate'] = pd.to_datetime(users['createdDate'])\n",
    "users['lastLogin'] = pd.to_datetime(users['lastLogin'])\n",
    "users.head(10)"
   ]
  },
  {
   "cell_type": "code",
   "execution_count": 9,
   "id": "9a11ab98",
   "metadata": {},
   "outputs": [
    {
     "name": "stdout",
     "output_type": "stream",
     "text": [
      "<class 'pandas.core.frame.DataFrame'>\n",
      "RangeIndex: 495 entries, 0 to 494\n",
      "Data columns (total 7 columns):\n",
      " #   Column        Non-Null Count  Dtype         \n",
      "---  ------        --------------  -----         \n",
      " 0   _id           495 non-null    object        \n",
      " 1   active        495 non-null    bool          \n",
      " 2   createdDate   495 non-null    datetime64[ns]\n",
      " 3   lastLogin     433 non-null    datetime64[ns]\n",
      " 4   role          495 non-null    object        \n",
      " 5   signUpSource  447 non-null    object        \n",
      " 6   state         439 non-null    object        \n",
      "dtypes: bool(1), datetime64[ns](2), object(4)\n",
      "memory usage: 23.8+ KB\n"
     ]
    }
   ],
   "source": [
    "users.info()"
   ]
  },
  {
   "cell_type": "markdown",
   "id": "26d68fdf",
   "metadata": {},
   "source": [
    "- 56 out of 495 users state is not known\n",
    "- 62 out of 495 users last login is not known"
   ]
  },
  {
   "cell_type": "code",
   "execution_count": 10,
   "id": "7e662da0",
   "metadata": {},
   "outputs": [
    {
     "data": {
      "text/plain": [
       "56"
      ]
     },
     "execution_count": 10,
     "metadata": {},
     "output_type": "execute_result"
    }
   ],
   "source": [
    "users['state'].isna().sum()"
   ]
  },
  {
   "cell_type": "code",
   "execution_count": 11,
   "id": "e487fdc0",
   "metadata": {},
   "outputs": [
    {
     "data": {
      "text/plain": [
       "62"
      ]
     },
     "execution_count": 11,
     "metadata": {},
     "output_type": "execute_result"
    }
   ],
   "source": [
    "users['lastLogin'].isna().sum()"
   ]
  },
  {
   "cell_type": "code",
   "execution_count": 12,
   "id": "60a97af5",
   "metadata": {},
   "outputs": [
    {
     "data": {
      "text/plain": [
       "212"
      ]
     },
     "execution_count": 12,
     "metadata": {},
     "output_type": "execute_result"
    }
   ],
   "source": [
    "users['_id'].nunique()"
   ]
  },
  {
   "cell_type": "markdown",
   "id": "cde20c08",
   "metadata": {},
   "source": [
    "- 283 records out of 495 records have duplicate data\n",
    "- 212 records only contain unique id and are unique record"
   ]
  },
  {
   "cell_type": "code",
   "execution_count": 13,
   "id": "c12dc61e",
   "metadata": {},
   "outputs": [
    {
     "data": {
      "text/html": [
       "<div>\n",
       "<style scoped>\n",
       "    .dataframe tbody tr th:only-of-type {\n",
       "        vertical-align: middle;\n",
       "    }\n",
       "\n",
       "    .dataframe tbody tr th {\n",
       "        vertical-align: top;\n",
       "    }\n",
       "\n",
       "    .dataframe thead th {\n",
       "        text-align: right;\n",
       "    }\n",
       "</style>\n",
       "<table border=\"1\" class=\"dataframe\">\n",
       "  <thead>\n",
       "    <tr style=\"text-align: right;\">\n",
       "      <th></th>\n",
       "      <th>_id</th>\n",
       "      <th>active</th>\n",
       "      <th>createdDate</th>\n",
       "      <th>lastLogin</th>\n",
       "      <th>role</th>\n",
       "      <th>signUpSource</th>\n",
       "      <th>state</th>\n",
       "    </tr>\n",
       "  </thead>\n",
       "  <tbody>\n",
       "    <tr>\n",
       "      <th>1</th>\n",
       "      <td>5ff1e194b6a9d73a3a9f1052</td>\n",
       "      <td>True</td>\n",
       "      <td>2021-01-03 09:24:04</td>\n",
       "      <td>2021-01-03 09:25:37</td>\n",
       "      <td>consumer</td>\n",
       "      <td>Email</td>\n",
       "      <td>WI</td>\n",
       "    </tr>\n",
       "    <tr>\n",
       "      <th>2</th>\n",
       "      <td>5ff1e194b6a9d73a3a9f1052</td>\n",
       "      <td>True</td>\n",
       "      <td>2021-01-03 09:24:04</td>\n",
       "      <td>2021-01-03 09:25:37</td>\n",
       "      <td>consumer</td>\n",
       "      <td>Email</td>\n",
       "      <td>WI</td>\n",
       "    </tr>\n",
       "    <tr>\n",
       "      <th>4</th>\n",
       "      <td>5ff1e194b6a9d73a3a9f1052</td>\n",
       "      <td>True</td>\n",
       "      <td>2021-01-03 09:24:04</td>\n",
       "      <td>2021-01-03 09:25:37</td>\n",
       "      <td>consumer</td>\n",
       "      <td>Email</td>\n",
       "      <td>WI</td>\n",
       "    </tr>\n",
       "    <tr>\n",
       "      <th>5</th>\n",
       "      <td>5ff1e194b6a9d73a3a9f1052</td>\n",
       "      <td>True</td>\n",
       "      <td>2021-01-03 09:24:04</td>\n",
       "      <td>2021-01-03 09:25:37</td>\n",
       "      <td>consumer</td>\n",
       "      <td>Email</td>\n",
       "      <td>WI</td>\n",
       "    </tr>\n",
       "    <tr>\n",
       "      <th>8</th>\n",
       "      <td>5ff1e194b6a9d73a3a9f1052</td>\n",
       "      <td>True</td>\n",
       "      <td>2021-01-03 09:24:04</td>\n",
       "      <td>2021-01-03 09:25:37</td>\n",
       "      <td>consumer</td>\n",
       "      <td>Email</td>\n",
       "      <td>WI</td>\n",
       "    </tr>\n",
       "    <tr>\n",
       "      <th>...</th>\n",
       "      <td>...</td>\n",
       "      <td>...</td>\n",
       "      <td>...</td>\n",
       "      <td>...</td>\n",
       "      <td>...</td>\n",
       "      <td>...</td>\n",
       "      <td>...</td>\n",
       "    </tr>\n",
       "    <tr>\n",
       "      <th>490</th>\n",
       "      <td>54943462e4b07e684157a532</td>\n",
       "      <td>True</td>\n",
       "      <td>2014-12-19 08:21:22</td>\n",
       "      <td>2021-03-05 10:52:23</td>\n",
       "      <td>fetch-staff</td>\n",
       "      <td>NaN</td>\n",
       "      <td>NaN</td>\n",
       "    </tr>\n",
       "    <tr>\n",
       "      <th>491</th>\n",
       "      <td>54943462e4b07e684157a532</td>\n",
       "      <td>True</td>\n",
       "      <td>2014-12-19 08:21:22</td>\n",
       "      <td>2021-03-05 10:52:23</td>\n",
       "      <td>fetch-staff</td>\n",
       "      <td>NaN</td>\n",
       "      <td>NaN</td>\n",
       "    </tr>\n",
       "    <tr>\n",
       "      <th>492</th>\n",
       "      <td>54943462e4b07e684157a532</td>\n",
       "      <td>True</td>\n",
       "      <td>2014-12-19 08:21:22</td>\n",
       "      <td>2021-03-05 10:52:23</td>\n",
       "      <td>fetch-staff</td>\n",
       "      <td>NaN</td>\n",
       "      <td>NaN</td>\n",
       "    </tr>\n",
       "    <tr>\n",
       "      <th>493</th>\n",
       "      <td>54943462e4b07e684157a532</td>\n",
       "      <td>True</td>\n",
       "      <td>2014-12-19 08:21:22</td>\n",
       "      <td>2021-03-05 10:52:23</td>\n",
       "      <td>fetch-staff</td>\n",
       "      <td>NaN</td>\n",
       "      <td>NaN</td>\n",
       "    </tr>\n",
       "    <tr>\n",
       "      <th>494</th>\n",
       "      <td>54943462e4b07e684157a532</td>\n",
       "      <td>True</td>\n",
       "      <td>2014-12-19 08:21:22</td>\n",
       "      <td>2021-03-05 10:52:23</td>\n",
       "      <td>fetch-staff</td>\n",
       "      <td>NaN</td>\n",
       "      <td>NaN</td>\n",
       "    </tr>\n",
       "  </tbody>\n",
       "</table>\n",
       "<p>283 rows × 7 columns</p>\n",
       "</div>"
      ],
      "text/plain": [
       "                          _id  active         createdDate           lastLogin  \\\n",
       "1    5ff1e194b6a9d73a3a9f1052    True 2021-01-03 09:24:04 2021-01-03 09:25:37   \n",
       "2    5ff1e194b6a9d73a3a9f1052    True 2021-01-03 09:24:04 2021-01-03 09:25:37   \n",
       "4    5ff1e194b6a9d73a3a9f1052    True 2021-01-03 09:24:04 2021-01-03 09:25:37   \n",
       "5    5ff1e194b6a9d73a3a9f1052    True 2021-01-03 09:24:04 2021-01-03 09:25:37   \n",
       "8    5ff1e194b6a9d73a3a9f1052    True 2021-01-03 09:24:04 2021-01-03 09:25:37   \n",
       "..                        ...     ...                 ...                 ...   \n",
       "490  54943462e4b07e684157a532    True 2014-12-19 08:21:22 2021-03-05 10:52:23   \n",
       "491  54943462e4b07e684157a532    True 2014-12-19 08:21:22 2021-03-05 10:52:23   \n",
       "492  54943462e4b07e684157a532    True 2014-12-19 08:21:22 2021-03-05 10:52:23   \n",
       "493  54943462e4b07e684157a532    True 2014-12-19 08:21:22 2021-03-05 10:52:23   \n",
       "494  54943462e4b07e684157a532    True 2014-12-19 08:21:22 2021-03-05 10:52:23   \n",
       "\n",
       "            role signUpSource state  \n",
       "1       consumer        Email    WI  \n",
       "2       consumer        Email    WI  \n",
       "4       consumer        Email    WI  \n",
       "5       consumer        Email    WI  \n",
       "8       consumer        Email    WI  \n",
       "..           ...          ...   ...  \n",
       "490  fetch-staff          NaN   NaN  \n",
       "491  fetch-staff          NaN   NaN  \n",
       "492  fetch-staff          NaN   NaN  \n",
       "493  fetch-staff          NaN   NaN  \n",
       "494  fetch-staff          NaN   NaN  \n",
       "\n",
       "[283 rows x 7 columns]"
      ]
     },
     "execution_count": 13,
     "metadata": {},
     "output_type": "execute_result"
    }
   ],
   "source": [
    "users[users.duplicated()]"
   ]
  },
  {
   "cell_type": "markdown",
   "id": "9daea6c3",
   "metadata": {},
   "source": [
    "- brands dataframe is created from brands.json file"
   ]
  },
  {
   "cell_type": "code",
   "execution_count": 14,
   "id": "014c3a83",
   "metadata": {},
   "outputs": [
    {
     "data": {
      "text/html": [
       "<div>\n",
       "<style scoped>\n",
       "    .dataframe tbody tr th:only-of-type {\n",
       "        vertical-align: middle;\n",
       "    }\n",
       "\n",
       "    .dataframe tbody tr th {\n",
       "        vertical-align: top;\n",
       "    }\n",
       "\n",
       "    .dataframe thead th {\n",
       "        text-align: right;\n",
       "    }\n",
       "</style>\n",
       "<table border=\"1\" class=\"dataframe\">\n",
       "  <thead>\n",
       "    <tr style=\"text-align: right;\">\n",
       "      <th></th>\n",
       "      <th>_id</th>\n",
       "      <th>barcode</th>\n",
       "      <th>category</th>\n",
       "      <th>categoryCode</th>\n",
       "      <th>cpg</th>\n",
       "      <th>name</th>\n",
       "      <th>topBrand</th>\n",
       "      <th>brandCode</th>\n",
       "    </tr>\n",
       "  </thead>\n",
       "  <tbody>\n",
       "    <tr>\n",
       "      <th>0</th>\n",
       "      <td>{'$oid': '601ac115be37ce2ead437551'}</td>\n",
       "      <td>511111019862</td>\n",
       "      <td>Baking</td>\n",
       "      <td>BAKING</td>\n",
       "      <td>{'$id': {'$oid': '601ac114be37ce2ead437550'}, ...</td>\n",
       "      <td>test brand @1612366101024</td>\n",
       "      <td>False</td>\n",
       "      <td>NaN</td>\n",
       "    </tr>\n",
       "    <tr>\n",
       "      <th>1</th>\n",
       "      <td>{'$oid': '601c5460be37ce2ead43755f'}</td>\n",
       "      <td>511111519928</td>\n",
       "      <td>Beverages</td>\n",
       "      <td>BEVERAGES</td>\n",
       "      <td>{'$id': {'$oid': '5332f5fbe4b03c9a25efd0ba'}, ...</td>\n",
       "      <td>Starbucks</td>\n",
       "      <td>False</td>\n",
       "      <td>STARBUCKS</td>\n",
       "    </tr>\n",
       "    <tr>\n",
       "      <th>2</th>\n",
       "      <td>{'$oid': '601ac142be37ce2ead43755d'}</td>\n",
       "      <td>511111819905</td>\n",
       "      <td>Baking</td>\n",
       "      <td>BAKING</td>\n",
       "      <td>{'$id': {'$oid': '601ac142be37ce2ead437559'}, ...</td>\n",
       "      <td>test brand @1612366146176</td>\n",
       "      <td>False</td>\n",
       "      <td>TEST BRANDCODE @1612366146176</td>\n",
       "    </tr>\n",
       "    <tr>\n",
       "      <th>3</th>\n",
       "      <td>{'$oid': '601ac142be37ce2ead43755a'}</td>\n",
       "      <td>511111519874</td>\n",
       "      <td>Baking</td>\n",
       "      <td>BAKING</td>\n",
       "      <td>{'$id': {'$oid': '601ac142be37ce2ead437559'}, ...</td>\n",
       "      <td>test brand @1612366146051</td>\n",
       "      <td>False</td>\n",
       "      <td>TEST BRANDCODE @1612366146051</td>\n",
       "    </tr>\n",
       "    <tr>\n",
       "      <th>4</th>\n",
       "      <td>{'$oid': '601ac142be37ce2ead43755e'}</td>\n",
       "      <td>511111319917</td>\n",
       "      <td>Candy &amp; Sweets</td>\n",
       "      <td>CANDY_AND_SWEETS</td>\n",
       "      <td>{'$id': {'$oid': '5332fa12e4b03c9a25efd1e7'}, ...</td>\n",
       "      <td>test brand @1612366146827</td>\n",
       "      <td>False</td>\n",
       "      <td>TEST BRANDCODE @1612366146827</td>\n",
       "    </tr>\n",
       "  </tbody>\n",
       "</table>\n",
       "</div>"
      ],
      "text/plain": [
       "                                    _id       barcode        category  \\\n",
       "0  {'$oid': '601ac115be37ce2ead437551'}  511111019862          Baking   \n",
       "1  {'$oid': '601c5460be37ce2ead43755f'}  511111519928       Beverages   \n",
       "2  {'$oid': '601ac142be37ce2ead43755d'}  511111819905          Baking   \n",
       "3  {'$oid': '601ac142be37ce2ead43755a'}  511111519874          Baking   \n",
       "4  {'$oid': '601ac142be37ce2ead43755e'}  511111319917  Candy & Sweets   \n",
       "\n",
       "       categoryCode                                                cpg  \\\n",
       "0            BAKING  {'$id': {'$oid': '601ac114be37ce2ead437550'}, ...   \n",
       "1         BEVERAGES  {'$id': {'$oid': '5332f5fbe4b03c9a25efd0ba'}, ...   \n",
       "2            BAKING  {'$id': {'$oid': '601ac142be37ce2ead437559'}, ...   \n",
       "3            BAKING  {'$id': {'$oid': '601ac142be37ce2ead437559'}, ...   \n",
       "4  CANDY_AND_SWEETS  {'$id': {'$oid': '5332fa12e4b03c9a25efd1e7'}, ...   \n",
       "\n",
       "                        name topBrand                      brandCode  \n",
       "0  test brand @1612366101024    False                            NaN  \n",
       "1                  Starbucks    False                      STARBUCKS  \n",
       "2  test brand @1612366146176    False  TEST BRANDCODE @1612366146176  \n",
       "3  test brand @1612366146051    False  TEST BRANDCODE @1612366146051  \n",
       "4  test brand @1612366146827    False  TEST BRANDCODE @1612366146827  "
      ]
     },
     "execution_count": 14,
     "metadata": {},
     "output_type": "execute_result"
    }
   ],
   "source": [
    "data = []\n",
    "with open('/Users/mohitkorai/Documents/FetchRewards/brands.json') as f:\n",
    "    for line in f:\n",
    "        data.append(json.loads(line))\n",
    "brands = pd.DataFrame(data)\n",
    "brands.head()"
   ]
  },
  {
   "cell_type": "markdown",
   "id": "00412029",
   "metadata": {},
   "source": [
    "- Getting values in JSON column of _id"
   ]
  },
  {
   "cell_type": "code",
   "execution_count": 15,
   "id": "21b19f82",
   "metadata": {},
   "outputs": [],
   "source": [
    "x = []\n",
    "for i in brands['_id']:\n",
    "    x.append(*i.values())\n",
    "brands['_id'] = x"
   ]
  },
  {
   "cell_type": "markdown",
   "id": "0fe36d56",
   "metadata": {},
   "source": [
    "- Getting ref and id in nested JSON column of cpg"
   ]
  },
  {
   "cell_type": "code",
   "execution_count": 16,
   "id": "2e8bee50",
   "metadata": {},
   "outputs": [],
   "source": [
    "x = []\n",
    "for i in brands['cpg']:\n",
    "    x.append(i.get('$ref'))\n",
    "brands['cpg_ref'] = x"
   ]
  },
  {
   "cell_type": "code",
   "execution_count": 17,
   "id": "fef4c288",
   "metadata": {},
   "outputs": [],
   "source": [
    "x = []\n",
    "for i in brands['cpg']:\n",
    "    x.append(i.get('$id').get('$oid'))\n",
    "brands['cpg_id'] = x"
   ]
  },
  {
   "cell_type": "code",
   "execution_count": 18,
   "id": "700a6d1b",
   "metadata": {},
   "outputs": [
    {
     "data": {
      "text/html": [
       "<div>\n",
       "<style scoped>\n",
       "    .dataframe tbody tr th:only-of-type {\n",
       "        vertical-align: middle;\n",
       "    }\n",
       "\n",
       "    .dataframe tbody tr th {\n",
       "        vertical-align: top;\n",
       "    }\n",
       "\n",
       "    .dataframe thead th {\n",
       "        text-align: right;\n",
       "    }\n",
       "</style>\n",
       "<table border=\"1\" class=\"dataframe\">\n",
       "  <thead>\n",
       "    <tr style=\"text-align: right;\">\n",
       "      <th></th>\n",
       "      <th>_id</th>\n",
       "      <th>barcode</th>\n",
       "      <th>category</th>\n",
       "      <th>categoryCode</th>\n",
       "      <th>name</th>\n",
       "      <th>topBrand</th>\n",
       "      <th>brandCode</th>\n",
       "      <th>cpg_ref</th>\n",
       "      <th>cpg_id</th>\n",
       "    </tr>\n",
       "  </thead>\n",
       "  <tbody>\n",
       "    <tr>\n",
       "      <th>0</th>\n",
       "      <td>601ac115be37ce2ead437551</td>\n",
       "      <td>511111019862</td>\n",
       "      <td>Baking</td>\n",
       "      <td>BAKING</td>\n",
       "      <td>test brand @1612366101024</td>\n",
       "      <td>False</td>\n",
       "      <td>NaN</td>\n",
       "      <td>Cogs</td>\n",
       "      <td>601ac114be37ce2ead437550</td>\n",
       "    </tr>\n",
       "    <tr>\n",
       "      <th>1</th>\n",
       "      <td>601c5460be37ce2ead43755f</td>\n",
       "      <td>511111519928</td>\n",
       "      <td>Beverages</td>\n",
       "      <td>BEVERAGES</td>\n",
       "      <td>Starbucks</td>\n",
       "      <td>False</td>\n",
       "      <td>STARBUCKS</td>\n",
       "      <td>Cogs</td>\n",
       "      <td>5332f5fbe4b03c9a25efd0ba</td>\n",
       "    </tr>\n",
       "    <tr>\n",
       "      <th>2</th>\n",
       "      <td>601ac142be37ce2ead43755d</td>\n",
       "      <td>511111819905</td>\n",
       "      <td>Baking</td>\n",
       "      <td>BAKING</td>\n",
       "      <td>test brand @1612366146176</td>\n",
       "      <td>False</td>\n",
       "      <td>TEST BRANDCODE @1612366146176</td>\n",
       "      <td>Cogs</td>\n",
       "      <td>601ac142be37ce2ead437559</td>\n",
       "    </tr>\n",
       "    <tr>\n",
       "      <th>3</th>\n",
       "      <td>601ac142be37ce2ead43755a</td>\n",
       "      <td>511111519874</td>\n",
       "      <td>Baking</td>\n",
       "      <td>BAKING</td>\n",
       "      <td>test brand @1612366146051</td>\n",
       "      <td>False</td>\n",
       "      <td>TEST BRANDCODE @1612366146051</td>\n",
       "      <td>Cogs</td>\n",
       "      <td>601ac142be37ce2ead437559</td>\n",
       "    </tr>\n",
       "    <tr>\n",
       "      <th>4</th>\n",
       "      <td>601ac142be37ce2ead43755e</td>\n",
       "      <td>511111319917</td>\n",
       "      <td>Candy &amp; Sweets</td>\n",
       "      <td>CANDY_AND_SWEETS</td>\n",
       "      <td>test brand @1612366146827</td>\n",
       "      <td>False</td>\n",
       "      <td>TEST BRANDCODE @1612366146827</td>\n",
       "      <td>Cogs</td>\n",
       "      <td>5332fa12e4b03c9a25efd1e7</td>\n",
       "    </tr>\n",
       "    <tr>\n",
       "      <th>5</th>\n",
       "      <td>601ac142be37ce2ead43755b</td>\n",
       "      <td>511111719885</td>\n",
       "      <td>Baking</td>\n",
       "      <td>BAKING</td>\n",
       "      <td>test brand @1612366146091</td>\n",
       "      <td>False</td>\n",
       "      <td>TEST BRANDCODE @1612366146091</td>\n",
       "      <td>Cogs</td>\n",
       "      <td>601ac142be37ce2ead437559</td>\n",
       "    </tr>\n",
       "    <tr>\n",
       "      <th>6</th>\n",
       "      <td>601ac142be37ce2ead43755c</td>\n",
       "      <td>511111219897</td>\n",
       "      <td>Baking</td>\n",
       "      <td>BAKING</td>\n",
       "      <td>test brand @1612366146133</td>\n",
       "      <td>False</td>\n",
       "      <td>TEST BRANDCODE @1612366146133</td>\n",
       "      <td>Cogs</td>\n",
       "      <td>601ac142be37ce2ead437559</td>\n",
       "    </tr>\n",
       "    <tr>\n",
       "      <th>7</th>\n",
       "      <td>5cdad0f5166eb33eb7ce0faa</td>\n",
       "      <td>511111104810</td>\n",
       "      <td>Condiments &amp; Sauces</td>\n",
       "      <td>NaN</td>\n",
       "      <td>J.L. Kraft</td>\n",
       "      <td>NaN</td>\n",
       "      <td>J.L. KRAFT</td>\n",
       "      <td>Cogs</td>\n",
       "      <td>559c2234e4b06aca36af13c6</td>\n",
       "    </tr>\n",
       "    <tr>\n",
       "      <th>8</th>\n",
       "      <td>5ab15636e4b0be0a89bb0b07</td>\n",
       "      <td>511111504412</td>\n",
       "      <td>Canned Goods &amp; Soups</td>\n",
       "      <td>NaN</td>\n",
       "      <td>Campbell's Home Style</td>\n",
       "      <td>False</td>\n",
       "      <td>CAMPBELLS HOME STYLE</td>\n",
       "      <td>Cogs</td>\n",
       "      <td>5a734034e4b0d58f376be874</td>\n",
       "    </tr>\n",
       "    <tr>\n",
       "      <th>9</th>\n",
       "      <td>5c408e8bcd244a1fdb47aee7</td>\n",
       "      <td>511111504788</td>\n",
       "      <td>Baking</td>\n",
       "      <td>NaN</td>\n",
       "      <td>test</td>\n",
       "      <td>NaN</td>\n",
       "      <td>TEST</td>\n",
       "      <td>Cogs</td>\n",
       "      <td>59ba6f1ce4b092b29c167346</td>\n",
       "    </tr>\n",
       "  </tbody>\n",
       "</table>\n",
       "</div>"
      ],
      "text/plain": [
       "                        _id       barcode              category  \\\n",
       "0  601ac115be37ce2ead437551  511111019862                Baking   \n",
       "1  601c5460be37ce2ead43755f  511111519928             Beverages   \n",
       "2  601ac142be37ce2ead43755d  511111819905                Baking   \n",
       "3  601ac142be37ce2ead43755a  511111519874                Baking   \n",
       "4  601ac142be37ce2ead43755e  511111319917        Candy & Sweets   \n",
       "5  601ac142be37ce2ead43755b  511111719885                Baking   \n",
       "6  601ac142be37ce2ead43755c  511111219897                Baking   \n",
       "7  5cdad0f5166eb33eb7ce0faa  511111104810   Condiments & Sauces   \n",
       "8  5ab15636e4b0be0a89bb0b07  511111504412  Canned Goods & Soups   \n",
       "9  5c408e8bcd244a1fdb47aee7  511111504788                Baking   \n",
       "\n",
       "       categoryCode                       name topBrand  \\\n",
       "0            BAKING  test brand @1612366101024    False   \n",
       "1         BEVERAGES                  Starbucks    False   \n",
       "2            BAKING  test brand @1612366146176    False   \n",
       "3            BAKING  test brand @1612366146051    False   \n",
       "4  CANDY_AND_SWEETS  test brand @1612366146827    False   \n",
       "5            BAKING  test brand @1612366146091    False   \n",
       "6            BAKING  test brand @1612366146133    False   \n",
       "7               NaN                 J.L. Kraft      NaN   \n",
       "8               NaN      Campbell's Home Style    False   \n",
       "9               NaN                       test      NaN   \n",
       "\n",
       "                       brandCode cpg_ref                    cpg_id  \n",
       "0                            NaN    Cogs  601ac114be37ce2ead437550  \n",
       "1                      STARBUCKS    Cogs  5332f5fbe4b03c9a25efd0ba  \n",
       "2  TEST BRANDCODE @1612366146176    Cogs  601ac142be37ce2ead437559  \n",
       "3  TEST BRANDCODE @1612366146051    Cogs  601ac142be37ce2ead437559  \n",
       "4  TEST BRANDCODE @1612366146827    Cogs  5332fa12e4b03c9a25efd1e7  \n",
       "5  TEST BRANDCODE @1612366146091    Cogs  601ac142be37ce2ead437559  \n",
       "6  TEST BRANDCODE @1612366146133    Cogs  601ac142be37ce2ead437559  \n",
       "7                     J.L. KRAFT    Cogs  559c2234e4b06aca36af13c6  \n",
       "8           CAMPBELLS HOME STYLE    Cogs  5a734034e4b0d58f376be874  \n",
       "9                           TEST    Cogs  59ba6f1ce4b092b29c167346  "
      ]
     },
     "execution_count": 18,
     "metadata": {},
     "output_type": "execute_result"
    }
   ],
   "source": [
    "del brands['cpg']\n",
    "brands.head(10)"
   ]
  },
  {
   "cell_type": "code",
   "execution_count": 19,
   "id": "0cb534f3",
   "metadata": {
    "scrolled": true
   },
   "outputs": [
    {
     "name": "stdout",
     "output_type": "stream",
     "text": [
      "<class 'pandas.core.frame.DataFrame'>\n",
      "RangeIndex: 1167 entries, 0 to 1166\n",
      "Data columns (total 9 columns):\n",
      " #   Column        Non-Null Count  Dtype \n",
      "---  ------        --------------  ----- \n",
      " 0   _id           1167 non-null   object\n",
      " 1   barcode       1167 non-null   object\n",
      " 2   category      1012 non-null   object\n",
      " 3   categoryCode  517 non-null    object\n",
      " 4   name          1167 non-null   object\n",
      " 5   topBrand      555 non-null    object\n",
      " 6   brandCode     933 non-null    object\n",
      " 7   cpg_ref       1167 non-null   object\n",
      " 8   cpg_id        1167 non-null   object\n",
      "dtypes: object(9)\n",
      "memory usage: 82.2+ KB\n"
     ]
    }
   ],
   "source": [
    "brands.info()"
   ]
  },
  {
   "cell_type": "markdown",
   "id": "94c1d06a",
   "metadata": {},
   "source": [
    "- 11 brand name have duplicate data\n",
    "- Out of 934 records with brand code 37 are duplicate data\n",
    "- 7 records also have duplicate barcode\n",
    "- 650 out of 1167 brands do not have category code\n",
    "- 612 out of 1167 brands do not have top brand information\n",
    "- 234 out of 1167 brands do not have brand code information which is essential for connecting brands table to receipts table"
   ]
  },
  {
   "cell_type": "code",
   "execution_count": 20,
   "id": "dbefb43f",
   "metadata": {},
   "outputs": [
    {
     "data": {
      "text/plain": [
       "1167"
      ]
     },
     "execution_count": 20,
     "metadata": {},
     "output_type": "execute_result"
    }
   ],
   "source": [
    "brands['_id'].nunique()"
   ]
  },
  {
   "cell_type": "code",
   "execution_count": 21,
   "id": "79d4fa29",
   "metadata": {},
   "outputs": [
    {
     "data": {
      "text/plain": [
       "1160"
      ]
     },
     "execution_count": 21,
     "metadata": {},
     "output_type": "execute_result"
    }
   ],
   "source": [
    "brands['barcode'].nunique()"
   ]
  },
  {
   "cell_type": "code",
   "execution_count": 22,
   "id": "1849a4f4",
   "metadata": {},
   "outputs": [
    {
     "data": {
      "text/plain": [
       "1156"
      ]
     },
     "execution_count": 22,
     "metadata": {},
     "output_type": "execute_result"
    }
   ],
   "source": [
    "brands['name'].nunique()"
   ]
  },
  {
   "cell_type": "code",
   "execution_count": 23,
   "id": "363f3cab",
   "metadata": {},
   "outputs": [
    {
     "data": {
      "text/plain": [
       "897"
      ]
     },
     "execution_count": 23,
     "metadata": {},
     "output_type": "execute_result"
    }
   ],
   "source": [
    "brands['brandCode'].nunique()"
   ]
  },
  {
   "cell_type": "code",
   "execution_count": 24,
   "id": "469f6ad5",
   "metadata": {},
   "outputs": [
    {
     "data": {
      "text/plain": [
       "650"
      ]
     },
     "execution_count": 24,
     "metadata": {},
     "output_type": "execute_result"
    }
   ],
   "source": [
    "brands['categoryCode'].isna().sum()"
   ]
  },
  {
   "cell_type": "code",
   "execution_count": 25,
   "id": "30ff7741",
   "metadata": {},
   "outputs": [
    {
     "data": {
      "text/plain": [
       "612"
      ]
     },
     "execution_count": 25,
     "metadata": {},
     "output_type": "execute_result"
    }
   ],
   "source": [
    "brands['topBrand'].isna().sum()"
   ]
  },
  {
   "cell_type": "code",
   "execution_count": 26,
   "id": "e1ddc8a6",
   "metadata": {},
   "outputs": [
    {
     "data": {
      "text/plain": [
       "234"
      ]
     },
     "execution_count": 26,
     "metadata": {},
     "output_type": "execute_result"
    }
   ],
   "source": [
    "brands['brandCode'].isna().sum()"
   ]
  }
 ],
 "metadata": {
  "kernelspec": {
   "display_name": "Python 3 (ipykernel)",
   "language": "python",
   "name": "python3"
  },
  "language_info": {
   "codemirror_mode": {
    "name": "ipython",
    "version": 3
   },
   "file_extension": ".py",
   "mimetype": "text/x-python",
   "name": "python",
   "nbconvert_exporter": "python",
   "pygments_lexer": "ipython3",
   "version": "3.9.13"
  }
 },
 "nbformat": 4,
 "nbformat_minor": 5
}
